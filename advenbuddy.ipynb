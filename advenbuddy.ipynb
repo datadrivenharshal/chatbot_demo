{
 "cells": [
  {
   "cell_type": "code",
   "execution_count": 1,
   "metadata": {},
   "outputs": [],
   "source": [
    "import os\n",
    "from dotenv import load_dotenv\n",
    "from langchain_groq import ChatGroq"
   ]
  },
  {
   "cell_type": "code",
   "execution_count": 2,
   "metadata": {},
   "outputs": [],
   "source": [
    "# Load environment variables\n",
    "load_dotenv()# Get HuggingFace token from .env file\n",
    "hf_token = os.getenv(\"HF_TOKEN\")\n",
    "groq_api_key = os.getenv(\"GROQ_API_KEY\")\n"
   ]
  },
  {
   "cell_type": "code",
   "execution_count": 3,
   "metadata": {},
   "outputs": [
    {
     "data": {
      "text/plain": [
       "ChatGroq(client=<groq.resources.chat.completions.Completions object at 0x00000203047F2C20>, async_client=<groq.resources.chat.completions.AsyncCompletions object at 0x00000203047F1960>, model_name='Llama3-8b-8192', model_kwargs={}, groq_api_key=SecretStr('**********'))"
      ]
     },
     "execution_count": 3,
     "metadata": {},
     "output_type": "execute_result"
    }
   ],
   "source": [
    "llm=ChatGroq(groq_api_key=groq_api_key, model=\"Llama3-8b-8192\")\n",
    "llm"
   ]
  },
  {
   "cell_type": "code",
   "execution_count": 4,
   "metadata": {},
   "outputs": [],
   "source": [
    "from langchain_chroma import Chroma\n",
    "from langchain_community.document_loaders import PyPDFLoader\n",
    "from langchain_core.prompts import ChatPromptTemplate\n",
    "from langchain_huggingface import HuggingFaceEmbeddings\n",
    "from langchain_text_splitters import RecursiveCharacterTextSplitter\n",
    "from langchain.chains import create_retrieval_chain\n",
    "from langchain.chains.combine_documents import create_stuff_documents_chain\n"
   ]
  },
  {
   "cell_type": "code",
   "execution_count": 5,
   "metadata": {},
   "outputs": [],
   "source": [
    "loader = PyPDFLoader(\n",
    "    \"D:\\\\chatbot_demo\\\\advenbuddy_rag_pdfs_demo.pdf\",\n",
    ")"
   ]
  },
  {
   "cell_type": "code",
   "execution_count": 6,
   "metadata": {},
   "outputs": [],
   "source": [
    "#import bs4\n",
    "#from langchain_community.document_loaders import WebBaseLoader\n",
    "#loader_web = WebBaseLoader(\n",
    "#    web_paths=(\"https://adventure.tourism.gov.in/index.html\",\"https://adventure.tourism.gov.in/Andhra-Pradesh-Destination.html\",\"https://adventure.tourism.gov.in/Andhra-Pradesh-Gandikota-land-based.html\"),\n",
    "#    bs_kwargs=dict(\n",
    "#        parse_only=bs4.SoupStrainer(\n",
    "#            class_=(\"post-content\",\"post-title\",\"post-header\")\n",
    "#        )\n",
    "#    )\n",
    "#)"
   ]
  },
  {
   "cell_type": "code",
   "execution_count": 7,
   "metadata": {},
   "outputs": [
    {
     "data": {
      "text/plain": [
       "[Document(metadata={'source': 'D:\\\\chatbot_demo\\\\advenbuddy_rag_pdfs_demo.pdf', 'page': 0}, page_content='Adventure tourism refers to travel that involves exploration or travel to remote or exotic locations \\nwith an emphasis on physical activity, a degree of risk, and a personal challenge. It typically includes \\nactivities like trekking, rock climbing, bungee jumping, white-water rafting, safaris, skiing, and more, \\noften in challenging or off-the-beaten-path locations. \\n \\n Why is Adventure Tourism Popular? \\n• Thrill and Excitement: People are drawn to adventure tourism for the adrenaline rush and \\nthe sense of thrill. These activities offer unique experiences that go beyond typical leisure \\ntravel. \\n    \\n• Escape from Routine: Many seek adventure tourism to break free from the monotony of \\ndaily life. It offers a chance to escape, disconnect from work, and experience something new \\nand challenging. \\n \\n• Social Media Influence: Adventure travel is often shared on social media, with individuals \\nposting their daring experiences, making it a growing trend. The allure of showcasing \\nextreme activities drives others to try them as well. \\n \\n• Personal Growth: Adventure tourism encourages self-discovery and challenges, which can \\nlead to personal growth and a sense of achievement. Overcoming physical and mental \\nchallenges can build confidence. \\n \\n• Nature and Exploration: Many people are drawn to remote locations that offer a chance to \\nconnect with nature, explore untouched landscapes, and experience the world in its raw \\nform. \\n \\n How Adventure Tourism Affects Our Lives: \\n• Physical Fitness: Many adventure activities require a certain level of fitness, motivating \\npeople to stay healthy and active. \\n \\n• Mental Health: The challenge of outdoor activities can be therapeutic. Adventure tourism \\nencourages individuals to push boundaries, helping build resilience and reducing stress. It \\nalso provides a sense of accomplishment and boosts mental well-being. \\n \\n• Environmental Awareness: Exposure to nature through adventure tourism can foster \\nenvironmental consciousness. Adventurers often develop a sense of responsibility toward \\npreserving the environment they enjoy. '),\n",
       " Document(metadata={'source': 'D:\\\\chatbot_demo\\\\advenbuddy_rag_pdfs_demo.pdf', 'page': 1}, page_content=\" \\n• Cultural Exchange: Adventure tourism often takes people to remote destinations where they \\nencounter different cultures and traditions, fostering greater understanding and appreciation \\nfor diversity. \\n \\n Why Should One Go for Adventure? \\n• Personal Growth and Confidence: Overcoming the physical and mental challenges of an \\nadventure can significantly boost self-esteem and confidence. It helps you push past your \\nlimits, discover your strengths, and develop resilience. \\n \\n• Unique Experiences: Adventure tourism offers experiences that are different from typical \\nvacations. You get to explore untouched nature, meet new people, and engage in activities \\nthat aren’t available in more traditional forms of travel. \\n \\n• Sense of Achievement: Whether it’s completing a challenging trek or conquering a fear, \\nadventure tourism offers a tangible sense of achievement, which contributes to overall \\nhappiness and satisfaction. \\n \\n• Building Relationships: Adventure activities often bring people together, whether you're \\ntraveling with friends or joining a group activity. It can be a great way to bond with others \\nthrough shared experiences. \\n \\n• Health Benefits: Engaging in physical activities like hiking, climbing, or rafting can improve \\ncardiovascular health, strength, and endurance. It’s also a way to spend time outdoors, \\nsoaking in fresh air and sunshine. \\n \\nAdventure tourism is not only about seeking thrill but also about exploring one's potential, \\nchallenging limits, and embracing life in its full spectrum. \\nLand Activities: \\nBrief Introduction to the Activities \\n1. Birding \\n  Observing and identifying birds in their natural habitats. It’s a relaxing and rewarding activity, often \\nconducted in forests, wetlands, or reserves. \\n1.1 Birding Places in India \\n-Bharatpur Bird Sanctuary (Keoladeo National Park), Rajasthan   \\n• Known for its diverse bird species, including migratory birds like Siberian cranes.   \"),\n",
       " Document(metadata={'source': 'D:\\\\chatbot_demo\\\\advenbuddy_rag_pdfs_demo.pdf', 'page': 2}, page_content=\"- Chilika Lake, Odisha   \\n• Asia's largest brackish water lagoon, home to flamingos and other migratory birds. \\n \\n \\n \\n2. Trekking   \\n   A challenging journey on foot, usually through rugged terrains or mountainous regions, offering a \\nmix of adventure and scenic beauty. \\n \\n2.1. Trekking places in India  \\n- Roopkund Trek, Uttarakhand   \\n▪ Famous for its alpine meadows and the mysterious Skeleton Lake.   \\n- Markha Valley, Ladakh   \\n▪ Offers stunning views of the Himalayas and traditional Ladakhi villages. \\n \\n \\n3. Camel Safari   \\n   Exploring desert landscapes while riding camels, often in regions like Rajasthan or the Middle East, \\noffering cultural and natural experiences. \\n3.1 Camel Safari places in India \\n   - Jaisalmer, Rajasthan   \\n▪ Known as the 'Golden City,' it offers the iconic Thar Desert experience.   \\n   - Bikaner, Rajasthan   \\n▪ Famous for desert landscapes and cultural experiences. \\n \\n \\n4. Camping   \\nStaying outdoors in tents or shelters, typically in natural areas like forests or near water bodies, to \\nconnect with nature and enjoy peaceful surroundings. \\n4.1 Places in India for Camping   \\n  - Rishikesh, Uttarakhand   \\n• Riverside camping along the Ganges with adventure sports like rafting.   \"),\n",
       " Document(metadata={'source': 'D:\\\\chatbot_demo\\\\advenbuddy_rag_pdfs_demo.pdf', 'page': 3}, page_content='   - Spiti Valley, Himachal Pradesh   \\n• Offers serene landscapes and camping under a starlit sky. \\n \\n \\n5. Wildlife Safari   \\n   Exploring wildlife reserves or national parks, often in guided vehicles, to observe and learn about \\nwild animals in their natural habitats. \\n5.1 Places in India for Wildlife Safari   \\n   - Jim Corbett National Park, Uttarakhand   \\n• Famous for tiger sightings and rich biodiversity.   \\n   - Ranthambore National Park, Rajasthan   \\n• Known for its royal Bengal tigers and scenic ruins. \\n \\n \\n6. Caving \\n   Exploring underground caves, which may involve climbing, crawling, and navigating through \\nfascinating rock formations and ecosystems. \\n6.1 Caving Places in India  \\n   - Meghalaya (Mawsmai and Liat Prah Caves)   \\n• Known for the longest and most intricate cave systems in India.   \\n   - Badami Caves, Karnataka   \\n• Offers ancient rock-cut temples and cave exploration. \\n \\n \\n \\n7. Cycling   \\n   Riding bicycles through scenic routes, urban areas, or countryside, either as a leisure activity, \\nexercise, or an eco-friendly way to explore. \\n \\n8. Horse Safari   \\n   Exploring terrains on horseback, combining adventure with a traditional and regal experience in \\nrural or mountainous regions. '),\n",
       " Document(metadata={'source': 'D:\\\\chatbot_demo\\\\advenbuddy_rag_pdfs_demo.pdf', 'page': 4}, page_content=' \\n9. Jeep Safari   \\n   Exploring rugged terrains, jungles, or deserts in off-road vehicles, providing a safe and thrilling \\nadventure experience. \\n \\n10. Motor Sport   \\n    Competitive or recreational activities involving motorized vehicles, such as bike races or car rallies, \\noffering adrenaline-filled excitement. \\n \\n11. Rock Climbing   \\n    Ascending natural rock formations or artificial walls using climbing gear, a test of strength, \\nendurance, and technique. \\n \\n12. Skiing  \\n    Gliding over snow-covered slopes using skis, a popular winter sport combining fun, fitness, and \\nscenic mountain views. \\nHere’s a brief introduction to each of the adventure activities mentioned:   \\n \\n 1. Aero Sport   \\nA broad category encompassing activities like paragliding, skydiving, and hot air ballooning that \\ninvolve adventure in the skies. These sports provide an adrenaline rush and spectacular aerial views, \\ncombining skill, thrill, and freedom.   \\n \\n 2. Bungee Jumping   \\nAn extreme activity where participants jump off a high platform (like a bridge, tower, or crane) while \\nattached to a large elastic cord. The thrill comes from the free fall and the rebound effect of the cord.   \\n \\n 3. Hot Air Ballooning   \\nA serene and scenic experience where participants ride in a large balloon filled with hot air. It’s not \\nfocused on thrill but offers breathtaking panoramic views of landscapes, often at sunrise or sunset.   \\n \\n 4. Paragliding   \\nAn activity where participants glide through the air using a lightweight, free-flying, foot-launched \\nglider. It allows for long and peaceful flights over beautiful terrains with minimal equipment.   '),\n",
       " Document(metadata={'source': 'D:\\\\chatbot_demo\\\\advenbuddy_rag_pdfs_demo.pdf', 'page': 5}, page_content=' \\n 5. Sky Diving   \\nA high-intensity sport where participants jump from an aircraft at significant altitudes, freefalling \\nbefore deploying a parachute. It offers an unparalleled adrenaline rush and stunning aerial \\nperspectives.   \\n \\n 6. Zipline   \\nA fun activity where individuals slide down a steel cable, usually stretched between two high points. \\nIt’s often done over scenic locations like forests, valleys, or rivers, offering a thrilling and fast-paced \\nexperience.   \\n \\n 7. Scuba Diving   \\nAn underwater activity where participants use breathing equipment to explore marine life and \\nunderwater landscapes. It’s a unique combination of adventure and discovery, offering a peek into an \\nentirely different world.   \\n \\nWater Activities: \\nHere’s a brief introduction to each activity:   \\n \\n1. Angling:   \\n   Angling is a recreational fishing technique that uses a rod, line, and hook. Often pursued as a \\npeaceful pastime or sport, it involves catching fish in lakes, rivers, or oceans. Anglers may use live \\nbait or artificial lures, combining patience and skill to reel in their catch.   \\n \\n2. Kayaking:   \\n   Kayaking involves paddling a small, narrow watercraft called a kayak, typically powered by a \\ndouble-bladed paddle. It can be done in calm lakes, rivers, or even on ocean waves. Kayaking offers a \\nmix of adventure and tranquility, with options ranging from leisurely paddles to thrilling whitewater \\nrapids.   \\n \\n3. Rafting:   \\n   Rafting, or whitewater rafting, is an adventurous water activity where participants navigate rivers \\non an inflatable raft. It often involves maneuvering through rapids of varying difficulty, providing an \\nadrenaline-pumping experience ideal for group outings or team-building activities.   \\n \\n4. River Cruising:   '),\n",
       " Document(metadata={'source': 'D:\\\\chatbot_demo\\\\advenbuddy_rag_pdfs_demo.pdf', 'page': 6}, page_content='   River cruising is a leisurely activity involving travel along scenic rivers aboard comfortable cruise \\nboats. It’s a great way to explore landscapes, local cultures, and historical sites while enjoying a \\nrelaxing journey. River cruises vary in duration, from short day trips to multi-day adventures.   \\n \\n5. Sailing:   \\n   Sailing involves navigating a boat using wind power captured by sails. It can be done for recreation, \\ncompetitive racing, or long-distance exploration. Sailing offers a unique combination of technical skill, \\nphysical activity, and a deep connection with nature. \\n \\nPlaces in India to Experience These Adventures \\n \\n6. Caving   \\n   - Meghalaya (Mawsmai and Liat Prah Caves)   \\n   Known for the longest and most intricate cave systems in India.   \\n   - Badami Caves, Karnataka   \\n   Offers ancient rock-cut temples and cave exploration. \\n \\n7. Cycling   \\n   - Manali to Leh Highway   \\n   A thrilling route with breathtaking mountain views.   \\n   - Munnar, Kerala   \\n   Cycle through lush tea plantations and scenic landscapes. \\n \\n8. Horse Safari   \\n   - Pushkar, Rajasthan   \\n   Experience horseback safaris through desert dunes and cultural spots.   \\n   - Gulmarg, Jammu & Kashmir   \\n   Known for horseback rides through lush meadows and snow-capped peaks. \\n \\n9. Jeep Safari   \\n   - Spiti Valley, Himachal Pradesh   \\n   Experience rugged terrains and stunning vistas.   '),\n",
       " Document(metadata={'source': 'D:\\\\chatbot_demo\\\\advenbuddy_rag_pdfs_demo.pdf', 'page': 7}, page_content='   - Kaziranga National Park, Assam   \\n   Known for its one-horned rhinoceros and diverse wildlife. \\n \\n10. Motor Sport   \\n    - The Great Rann of Kutch, Gujarat   \\n    Participate in or watch the annual Rann Utsav motor rallies.   \\n    - Leh-Ladakh Circuit   \\n    Popular for bike and car rallies on high-altitude routes. \\n \\n11. Rock Climbing   \\n    - Hampi, Karnataka   \\n    A UNESCO World Heritage Site with stunning boulders for climbing.   \\n    - Malshej Ghat, Maharashtra   \\n    Offers picturesque cliffs and thrilling climbs. \\n \\n12. Skiing   \\n    - Gulmarg, Jammu & Kashmir   \\n    Known as the skiing capital of India, with world-class slopes.   \\n    - Auli, Uttarakhand   \\n    Offers excellent skiing facilities and panoramic Himalayan views. \\n \\n13. Bungee Jumping   \\n   - Rishikesh, Uttarakhand: Offers India’s first fixed-platform bungee jumping site at Jumpin Heights. \\n   - Lonavala, Maharashtra: Adventure Plus provides a thrilling experience. \\n \\n14. Sky Diving   \\n   - Mysore, Karnataka: Known for freefall jumps with scenic views of Chamundi Hills. \\n   - Deesa, Gujarat: Famous for tandem and static line jumps. \\n   - Narnaul, Haryana: Offers international-level skydiving experiences. \\n \\n15. Hot Air Ballooning   '),\n",
       " Document(metadata={'source': 'D:\\\\chatbot_demo\\\\advenbuddy_rag_pdfs_demo.pdf', 'page': 8}, page_content='   - Jaipur, Rajasthan: Offers a serene aerial view of forts and palaces. \\n   - Lonavala, Maharashtra: Popular for scenic flights over lush greenery. \\n \\n16. Paragliding   \\n   - Bir Billing, Himachal Pradesh: Known as the paragliding capital of India. \\n   - Kamshet, Maharashtra: Popular among adventure enthusiasts for its hilly terrain. \\n \\n17. Ziplining   \\n   - Neemrana, Rajasthan: Famous for a thrilling ride near the historic Neemrana Fort. \\n   - Rishikesh, Uttarakhand: Adventure zones offer exciting ziplines over rivers. \\n \\n18. Scuba Diving   \\n   - Andaman and Nicobar Islands: Crystal-clear waters and vibrant marine life. \\n   - Goa: Ideal for beginners and offers diverse underwater experiences \\n \\n 19. Angling \\n   - Kullu Valley, Himachal Pradesh – Known for trout fishing in its clear waters. \\n   - Madhya Pradesh – The Narmada and Chambal Rivers are perfect for fishing enthusiasts. \\n   - Uttarakhand – The rivers in places like Nainital and Almora offer great fishing opportunities. \\n   - Goa – Coastal fishing and angling are popular here, especially in the backwaters. \\n \\n 20. Kayaking \\n   - Alleppey, Kerala – Known for its backwaters, kayaking through the canals here is a popular \\nexperience. \\n   - Rishikesh, Uttarakhand – The Ganges offers perfect conditions for white-water kayaking. \\n   - Sikkim – Kayaking in the Teesta River is an exciting challenge. \\n   - Nanda Lake, Maharashtra – A serene spot for kayaking. \\n \\n 21. Rafting \\n   - Rishikesh, Uttarakhand – One of the most popular places for river rafting in India, with rapids \\nranging from easy to challenging. \\n   - Zanskar River, Ladakh – For an adventurous rafting experience amidst rugged terrain. '),\n",
       " Document(metadata={'source': 'D:\\\\chatbot_demo\\\\advenbuddy_rag_pdfs_demo.pdf', 'page': 9}, page_content='   - Beas River, Himachal Pradesh – Offering both easy and difficult rapids, it’s ideal for all levels of \\nrafters. \\n   - Kundalika River, Maharashtra – A popular destination for white-water rafting in a scenic location. \\n \\n 22. River Cruising \\n   - Backwaters of Kerala – Kerala’s backwaters offer luxury houseboat cruises, a peaceful way to \\nexplore the region. \\n   - Brahmaputra River, Assam – Known for river cruises through the scenic tea gardens and Kaziranga \\nNational Park. \\n   - Ganges River, Varanasi – A spiritual river cruise through the ancient city of Varanasi. \\n   - Hooghly River, Kolkata – Offers a cultural cruising experience around the city. \\n \\n 23. Sailing \\n   - Goa – Goa is one of the most famous destinations for sailing, with a variety of yacht tours \\navailable. \\n   - Kochi, Kerala – Explore the Arabian Sea on a sailing tour from this historic city. \\n   - Andaman and Nicobar Islands – Offers peaceful sailing in crystal-clear waters. \\n   - Mumbai, Maharashtra – Offers sailing experiences along its scenic coastline and out to nearby \\nislands. \\n \\n \\nHere are the approximate distances from Pune to each of the destinations mentioned: \\n 1. Angling \\n   - Kullu Valley, Himachal Pradesh – 1,700 km \\n   - Madhya Pradesh – 550-700 km (varies depending on the location) \\n   - Uttarakhand – 1,500-1,700 km (varies depending on the location) \\n   - Goa – 450 km \\n \\n 2. Kayaking \\n   - Alleppey, Kerala – 1,300 km \\n   - Rishikesh, Uttarakhand – 1,550 km \\n   - Sikkim – 2,000 km \\n   - Nanda Lake, Maharashtra – 200 km '),\n",
       " Document(metadata={'source': 'D:\\\\chatbot_demo\\\\advenbuddy_rag_pdfs_demo.pdf', 'page': 10}, page_content=' \\n 3. Rafting \\n   - Rishikesh, Uttarakhand – 1,550 km \\n   - Zanskar River, Ladakh – 2,000+ km \\n   - Beas River, Himachal Pradesh – 1,600 km \\n   - Kundalika River, Maharashtra – 130 km \\n \\n 4. River Cruising \\n   - Backwaters of Kerala – 1,300 km \\n   - Brahmaputra River, Assam – 2,300 km \\n   - Ganges River, Varanasi – 1,450 km \\n   - Hooghly River, Kolkata – 1,800 km \\n \\n 5. Sailing \\n   - Goa – 450 km \\n   - Kochi, Kerala – 1,300 km \\n   - Andaman and Nicobar Islands – 2,300 km (by air) \\n   - Mumbai, Maharashtra – 150 km \\nHere are the approximate distances from Pune to each adventure sport destination in India: \\n \\n1. Bungee Jumping   \\n   - Rishikesh, Uttarakhand: 1,600 km (by road) \\n   - Lonavala, Maharashtra: 65 km (by road) \\n \\n2. Sky Diving   \\n   - Mysore, Karnataka: 470 km (by road) \\n   - Deesa, Gujarat: 500 km (by road) \\n   - Narnaul, Haryana: 1,400 km (by road) \\n \\n3. Hot Air Ballooning   \\n   - Jaipur, Rajasthan: 1,100 km (by road) '),\n",
       " Document(metadata={'source': 'D:\\\\chatbot_demo\\\\advenbuddy_rag_pdfs_demo.pdf', 'page': 11}, page_content='   - Lonavala, Maharashtra: 65 km (by road) \\n \\n4. Paragliding   \\n   - Bir Billing, Himachal Pradesh: 2,000 km (by road) \\n   - Kamshet, Maharashtra: 45 km (by road) \\n \\n5. Ziplining   \\n   - Neemrana, Rajasthan: 1,100 km (by road) \\n   - Rishikesh, Uttarakhand: 1,600 km (by road) \\n \\n6. Scuba Diving   \\n   - Andaman and Nicobar Islands: 2,400 km (by flight) \\n   - Goa: 450 km (by road) \\nHere are the approximate distances from Pune to each of the adventure destinations mentioned: \\n \\n1. Birding \\n   - Bharatpur Bird Sanctuary (Keoladeo National Park), Rajasthan – 1,200 km \\n   - Chilika Lake, Odisha – 1,650 km \\n \\n2. Trekking \\n   - Roopkund Trek, Uttarakhand – 1,650 km \\n   - Markha Valley, Ladakh – 2,100 km \\n \\n3. Camel Safari \\n   - Jaisalmer, Rajasthan – 1,200 km \\n   - Bikaner, Rajasthan – 1,300 km \\n \\n4. Camping \\n   - Rishikesh, Uttarakhand – 1,700 km \\n   - Spiti Valley, Himachal Pradesh – 2,000 km \\n '),\n",
       " Document(metadata={'source': 'D:\\\\chatbot_demo\\\\advenbuddy_rag_pdfs_demo.pdf', 'page': 12}, page_content='5. Wildlife Safari \\n   - Jim Corbett National Park, Uttarakhand – 1,700 km \\n   - Ranthambore National Park, Rajasthan – 1,250 km \\n \\n6. Caving \\n   - Meghalaya (Mawsmai and Liat Prah Caves) – 2,800 km \\n   - Badami Caves, Karnataka – 350 km \\n \\n7. Cycling \\n   - Manali to Leh Highway – 2,000 km \\n   - Munnar, Kerala – 1,300 km \\n \\n8. Horse Safari \\n   - Pushkar, Rajasthan – 1,200 km \\n   - Gulmarg, Jammu & Kashmir – 2,100 km \\n \\n9. Jeep Safari \\n   - Spiti Valley, Himachal Pradesh – 2,000 km \\n   - Kaziranga National Park, Assam – 2,400 km \\n \\n10. Motor Sport \\n    - The Great Rann of Kutch, Gujarat – 450 km \\n    - Leh-Ladakh Circuit – 2,100 km \\n \\n11. Rock Climbing \\n    - Hampi, Karnataka – 350 km \\n    - Malshej Ghat, Maharashtra – 140 km \\n \\n12. Skiing \\n    - Gulmarg, Jammu & Kashmir – 2,100 km \\n    - Auli, Uttarakhand – 1,700 km '),\n",
       " Document(metadata={'source': 'D:\\\\chatbot_demo\\\\advenbuddy_rag_pdfs_demo.pdf', 'page': 13}, page_content='These distances are approximate and can vary depending on the exact route taken. \\nHere’s the best time to visit for each adventure activity and destination: \\n \\n1. Birding \\n   - Bharatpur Bird Sanctuary (Keoladeo National Park), Rajasthan – October to March (Winter \\nmonths, perfect for migratory bird sightings) \\n   - Chilika Lake, Odisha – November to February (Winter months, for migratory birds) \\n \\n2. Trekking \\n   - Roopkund Trek, Uttarakhand – May to October (Best trekking season before snowfall sets in) \\n   - Markha Valley, Ladakh – June to September (Summer months, best weather for trekking) \\n \\n3. Camel Safari \\n   - Jaisalmer, Rajasthan – November to February (Winter months, pleasant weather for desert \\nexploration) \\n   - Bikaner, Rajasthan – October to March (Winter months, for cool weather during the safari) \\n \\n4. Camping \\n   - Rishikesh, Uttarakhand – March to June, September to November (Best time for riverside camping \\nand adventure activities) \\n   - Spiti Valley, Himachal Pradesh – May to October (Summer months, accessible roads for camping) \\n \\n5. Wildlife Safari \\n   - Jim Corbett National Park, Uttarakhand – November to June (Best time for spotting wildlife, \\nespecially tigers) \\n   - Ranthambore National Park, Rajasthan – October to April (Winter to early summer, best time for \\nsafaris) \\n \\n6. Caving \\n   - Meghalaya (Mawsmai and Liat Prah Caves) – November to April (Winter months, ideal for cave \\nexploration as the weather is cool and dry) \\n   - Badami Caves, Karnataka – November to February (Cool months, good for outdoor exploration) \\n '),\n",
       " Document(metadata={'source': 'D:\\\\chatbot_demo\\\\advenbuddy_rag_pdfs_demo.pdf', 'page': 14}, page_content='7. Cycling \\n   - Manali to Leh Highway – June to September (Summer months, when the roads are open and the \\nweather is clear) \\n   - Munnar, Kerala – September to March (Winter months, when the weather is cool and ideal for \\ncycling) \\n \\n8. Horse Safari \\n   - Pushkar, Rajasthan – October to March (Winter months, the desert is pleasant for horse riding) \\n   - Gulmarg, Jammu & Kashmir – March to June (Spring and early summer, for clear weather and \\nbeautiful meadows) \\n \\n9. Jeep Safari \\n   - Spiti Valley, Himachal Pradesh – May to October (Summer months, ideal for rugged jeep rides) \\n   - Kaziranga National Park, Assam – November to April (Winter to early summer, the park is \\naccessible and wildlife sightings are optimal) \\n \\n10. Motor Sport \\n    - The Great Rann of Kutch, Gujarat – November to February (Winter months, when the weather is \\npleasant for rallies) \\n    - Leh-Ladakh Circuit – May to September (Summer months, when the road conditions are better \\nfor motor biking) \\n \\n11. Rock Climbing \\n    - Hampi, Karnataka – October to March (Winter months, perfect for rock climbing in the cooler \\nweather) \\n    - Malshej Ghat, Maharashtra – November to February (Cool months, ideal for climbing and \\noutdoor adventures) \\n \\n12. Skiing \\n    - Gulmarg, Jammu & Kashmir – December to March (Winter season, peak skiing months with \\nheavy snowfall) \\n    - Auli, Uttarakhand – December to March (Winter months, perfect for skiing and snow sports) \\nHere are the best times to visit each adventure sport destination, based on weather and optimal \\nconditions for activities: '),\n",
       " Document(metadata={'source': 'D:\\\\chatbot_demo\\\\advenbuddy_rag_pdfs_demo.pdf', 'page': 15}, page_content=' \\n1. Bungee Jumping   \\n   - Rishikesh, Uttarakhand: Best time is September to June. Avoid the monsoon season (July-August) \\ndue to heavy rainfall.   \\n   - Lonavala, Maharashtra: Ideal time is October to March, during the cooler months. \\n \\n2. Sky Diving   \\n   - Mysore, Karnataka: Best time is October to March, as the weather is clear and dry.   \\n   - Deesa, Gujarat: October to March is the ideal period, avoiding the hot summer months.   \\n   - Narnaul, Haryana: October to March for optimal weather conditions. \\n \\n3. Hot Air Ballooning   \\n   - Jaipur, Rajasthan: Best time is October to March, during the cool, dry season.   \\n   - Lonavala, Maharashtra: Ideal time is October to March, avoiding the monsoon season. \\n \\n4. Paragliding   \\n   - Bir Billing, Himachal Pradesh: Best time is March to June and September to November, as the \\nweather is perfect for flying.   \\n   - Kamshet, Maharashtra: Ideal time is October to March, avoiding the monsoon. \\n \\n5. Ziplining   \\n   - Neemrana, Rajasthan: Best time is October to March when the weather is cooler.   \\n   - Rishikesh, Uttarakhand: September to June is the ideal time, avoiding the monsoon season. \\n \\n6. Scuba Diving   \\n   - Andaman and Nicobar Islands: Best time is October to May, avoiding the monsoon season (June \\nto September).   \\n   - Goa: Ideal time is October to April, with calm seas and clear water for diving. \\nHere are the best times to visit each of the destinations for the listed activities: \\n \\n 1. Angling '),\n",
       " Document(metadata={'source': 'D:\\\\chatbot_demo\\\\advenbuddy_rag_pdfs_demo.pdf', 'page': 16}, page_content='   - Kullu Valley, Himachal Pradesh – Best time: March to June (for pleasant weather and trout fishing \\nseason). \\n   - Madhya Pradesh – Best time: October to March (cooler months for river fishing). \\n   - Uttarakhand – Best time: April to June and September to November (for clear waters and pleasant \\nweather). \\n   - Goa – Best time: October to April (ideal weather for coastal fishing). \\n \\n 2. Kayaking \\n   - Alleppey, Kerala – Best time: November to February (pleasant weather for kayaking through the \\nbackwaters). \\n   - Rishikesh, Uttarakhand – Best time: September to June (for ideal rafting and kayaking conditions). \\n   - Sikkim – Best time: March to May and September to November (for optimal kayaking on the \\nTeesta River). \\n   - Nanda Lake, Maharashtra – Best time: October to March (for clear weather and calm waters). \\n \\n 3. Rafting \\n   - Rishikesh, Uttarakhand – Best time: September to June (for thrilling rafting in the Ganges during \\npeak tourist season). \\n   - Zanskar River, Ladakh – Best time: July to September (summer months for adventurous rafting). \\n   - Beas River, Himachal Pradesh – Best time: April to June and September to October (for moderate \\nrapids). \\n   - Kundalika River, Maharashtra – Best time: October to June (after monsoon season for safe rafting). \\n \\n 4. River Cruising \\n   - Backwaters of Kerala – Best time: November to February (pleasant weather for houseboat \\ncruises). \\n   - Brahmaputra River, Assam – Best time: October to March (cooler months and ideal conditions for \\nriver cruises). \\n   - Ganges River, Varanasi – Best time: October to March (for a spiritual and scenic river cruise). \\n   - Hooghly River, Kolkata – Best time: October to March (pleasant weather for cruising). \\n \\n 5. Sailing \\n   - Goa – Best time: November to February (perfect sailing conditions with cool weather and clear \\nskies). '),\n",
       " Document(metadata={'source': 'D:\\\\chatbot_demo\\\\advenbuddy_rag_pdfs_demo.pdf', 'page': 17}, page_content=\"   - Kochi, Kerala – Best time: October to March (ideal weather for sailing in the Arabian Sea). \\n   - Andaman and Nicobar Islands – Best time: October to May (calm seas and pleasant weather for \\nsailing). \\n   - Mumbai, Maharashtra – Best time: November to February (cool weather for sailing along the \\ncoastline). \\n \\nThese times are based on the best weather and water conditions for each activity. It's always a good \\nidea to check local conditions before planning your trip! \\n \\nThese seasons offer the best weather and conditions for each activity, ensuring you have an \\nenjoyable and safe adventure experience. \\nThe overall budget for a trip in India, considering adventure activities, hotel accommodations, travel, \\nfood, and other expenses, can vary greatly depending on the location, duration, type of \\naccommodation, and the level of comfort you seek. Here is an approximate budget range for each \\ntype of trip, including all possible scenarios (economical, mid-range, and luxury). These are based on \\na 7-day trip. \\n \\n--- \\n \\n 1. Birding \\n- Bharatpur Bird Sanctuary, Rajasthan \\n  - Economical: ₹15,000 - ₹25,000   \\n  - Mid-range: ₹25,000 - ₹50,000   \\n  - Luxury: ₹50,000 - ₹1,00,000   \\n \\n- Chilika Lake, Odisha \\n  - Economical: ₹12,000 - ₹20,000   \\n  - Mid-range: ₹20,000 - ₹40,000   \\n  - Luxury: ₹40,000 - ₹80,000   \\n \\n 2. Trekking \\n- Roopkund Trek, Uttarakhand \\n  - Economical: ₹10,000 - ₹15,000   \\n  - Mid-range: ₹15,000 - ₹25,000   \"),\n",
       " Document(metadata={'source': 'D:\\\\chatbot_demo\\\\advenbuddy_rag_pdfs_demo.pdf', 'page': 18}, page_content='  - Luxury: ₹25,000 - ₹50,000   \\n \\n- Markha Valley, Ladakh \\n  - Economical: ₹20,000 - ₹35,000   \\n  - Mid-range: ₹35,000 - ₹55,000   \\n  - Luxury: ₹55,000 - ₹1,00,000   \\n \\n 3. Camel Safari \\n- Jaisalmer, Rajasthan \\n  - Economical: ₹8,000 - ₹15,000   \\n  - Mid-range: ₹15,000 - ₹30,000   \\n  - Luxury: ₹30,000 - ₹60,000   \\n \\n- Bikaner, Rajasthan \\n  - Economical: ₹8,000 - ₹12,000   \\n  - Mid-range: ₹12,000 - ₹25,000   \\n  - Luxury: ₹25,000 - ₹50,000   \\n \\n 4. Camping \\n- Rishikesh, Uttarakhand \\n  - Economical: ₹8,000 - ₹12,000   \\n  - Mid-range: ₹12,000 - ₹25,000   \\n  - Luxury: ₹25,000 - ₹50,000   \\n \\n- Spiti Valley, Himachal Pradesh \\n  - Economical: ₹15,000 - ₹25,000   \\n  - Mid-range: ₹25,000 - ₹40,000   \\n  - Luxury: ₹40,000 - ₹70,000   \\n \\n 5. Wildlife Safari \\n- Jim Corbett National Park, Uttarakhand '),\n",
       " Document(metadata={'source': 'D:\\\\chatbot_demo\\\\advenbuddy_rag_pdfs_demo.pdf', 'page': 19}, page_content='  - Economical: ₹12,000 - ₹20,000   \\n  - Mid-range: ₹20,000 - ₹40,000   \\n  - Luxury: ₹40,000 - ₹80,000   \\n \\n- Ranthambore National Park, Rajasthan \\n  - Economical: ₹10,000 - ₹18,000   \\n  - Mid-range: ₹18,000 - ₹35,000   \\n  - Luxury: ₹35,000 - ₹60,000   \\n \\n 6. Caving \\n- Meghalaya (Mawsmai and Liat Prah Caves) \\n  - Economical: ₹15,000 - ₹25,000   \\n  - Mid-range: ₹25,000 - ₹40,000   \\n  - Luxury: ₹40,000 - ₹70,000   \\n \\n- Badami Caves, Karnataka \\n  - Economical: ₹8,000 - ₹12,000   \\n  - Mid-range: ₹12,000 - ₹20,000   \\n  - Luxury: ₹20,000 - ₹40,000   \\n \\n 7. Cycling \\n- Manali to Leh Highway \\n  - Economical: ₹25,000 - ₹35,000   \\n  - Mid-range: ₹35,000 - ₹60,000   \\n  - Luxury: ₹60,000 - ₹1,00,000   \\n \\n- Munnar, Kerala \\n  - Economical: ₹10,000 - ₹18,000   \\n  - Mid-range: ₹18,000 - ₹30,000   \\n  - Luxury: ₹30,000 - ₹50,000   \\n '),\n",
       " Document(metadata={'source': 'D:\\\\chatbot_demo\\\\advenbuddy_rag_pdfs_demo.pdf', 'page': 20}, page_content=' 8. Horse Safari \\n- Pushkar, Rajasthan \\n  - Economical: ₹10,000 - ₹15,000   \\n  - Mid-range: ₹15,000 - ₹25,000   \\n  - Luxury: ₹25,000 - ₹45,000   \\n \\n- Gulmarg, Jammu & Kashmir \\n  - Economical: ₹15,000 - ₹25,000   \\n  - Mid-range: ₹25,000 - ₹40,000   \\n  - Luxury: ₹40,000 - ₹70,000   \\n \\n 9. Jeep Safari \\n- Spiti Valley, Himachal Pradesh \\n  - Economical: ₹15,000 - ₹25,000   \\n  - Mid-range: ₹25,000 - ₹40,000   \\n  - Luxury: ₹40,000 - ₹70,000   \\n \\n- Kaziranga National Park, Assam \\n  - Economical: ₹12,000 - ₹20,000   \\n  - Mid-range: ₹20,000 - ₹35,000   \\n  - Luxury: ₹35,000 - ₹60,000   \\n \\n 10. Motor Sport \\n- The Great Rann of Kutch, Gujarat \\n  - Economical: ₹8,000 - ₹12,000   \\n  - Mid-range: ₹12,000 - ₹25,000   \\n  - Luxury: ₹25,000 - ₹50,000   \\n \\n- Leh-Ladakh Circuit \\n  - Economical: ₹25,000 - ₹40,000   \\n  - Mid-range: ₹40,000 - ₹70,000   '),\n",
       " Document(metadata={'source': 'D:\\\\chatbot_demo\\\\advenbuddy_rag_pdfs_demo.pdf', 'page': 21}, page_content='  - Luxury: ₹70,000 - ₹1,00,000   \\n \\n 11. Rock Climbing \\n- Hampi, Karnataka \\n  - Economical: ₹8,000 - ₹12,000   \\n  - Mid-range: ₹12,000 - ₹20,000   \\n  - Luxury: ₹20,000 - ₹40,000   \\n \\n- Malshej Ghat, Maharashtra \\n  - Economical: ₹5,000 - ₹10,000   \\n  - Mid-range: ₹10,000 - ₹20,000   \\n  - Luxury: ₹20,000 - ₹35,000   \\n \\n 12. Skiing \\n- Gulmarg, Jammu & Kashmir \\n  - Economical: ₹20,000 - ₹30,000   \\n  - Mid-range: ₹30,000 - ₹60,000   \\n  - Luxury: ₹60,000 - ₹1,00,000   \\n \\n- Auli, Uttarakhand \\n  - Economical: ₹15,000 - ₹25,000   \\n  - Mid-range: ₹25,000 - ₹50,000   \\n  - Luxury: ₹50,000 - ₹80,000   \\n \\n--- \\n \\n Total Approximate Trip Cost Breakdown (7 Days) \\n \\n1. Economical Trip: ₹8,000 - ₹35,000   \\n   - Basic hotels, budget meals, and public transport. \\n2. Mid-range Trip: ₹15,000 - ₹55,000   '),\n",
       " Document(metadata={'source': 'D:\\\\chatbot_demo\\\\advenbuddy_rag_pdfs_demo.pdf', 'page': 22}, page_content=\"   - Comfortable hotels, decent meals, some private transport or guided tours. \\n3. Luxury Trip: ₹30,000 - ₹1,00,000   \\n   - 4-5 star hotels or resorts, gourmet meals, private tours, and premium experiences. \\n \\n--- \\n \\nNote: The total cost can vary significantly based on travel dates, hotel bookings, and additional \\nactivities. Always budget extra for personal expenses like shopping, souvenirs, or additional \\nadventure activities. \\n \\nTo estimate the overall budget for an adventure trip that includes activities like bungee jumping, \\nskydiving, hot air ballooning, paragliding, ziplining, and scuba diving, here's a breakdown of potential \\ncosts, including accommodation, food, and transportation. These figures vary based on the location, \\nluxury level, and specific activity. \\n \\n 1. Bungee Jumping   \\n   - Activity Cost: ₹3,000 to ₹5,000 per jump (Rishikesh) \\n   - Accommodation: ₹1,000 to ₹4,000 per night (budget to mid-range hotel) \\n   - Food: ₹500 to ₹1,500 per day \\n   - Total per day: ₹4,500 to ₹10,500 \\n \\n 2. Sky Diving   \\n   - Activity Cost: ₹25,000 to ₹35,000 per tandem jump (Deesa, Mysore, Narnaul) \\n   - Accommodation: ₹1,500 to ₹5,000 per night (budget to mid-range hotel) \\n   - Food: ₹500 to ₹2,000 per day \\n   - Total per day: ₹30,000 to ₹45,000 for a 2-day experience \\n \\n 3. Hot Air Ballooning   \\n   - Activity Cost: ₹12,000 to ₹20,000 per person (Jaipur, Lonavala) \\n   - Accommodation: ₹2,000 to ₹6,000 per night (budget to mid-range hotel) \\n   - Food: ₹500 to ₹2,000 per day \\n   - Total per day: ₹14,500 to ₹28,000 for a 1-day experience \\n \"),\n",
       " Document(metadata={'source': 'D:\\\\chatbot_demo\\\\advenbuddy_rag_pdfs_demo.pdf', 'page': 23}, page_content=' 4. Paragliding   \\n   - Activity Cost: ₹2,500 to ₹4,500 per flight (Bir Billing, Kamshet) \\n   - Accommodation: ₹1,500 to ₹3,500 per night \\n   - Food: ₹500 to ₹1,500 per day \\n   - Total per day: ₹4,500 to ₹9,000 \\n \\n 5. Ziplining   \\n   - Activity Cost: ₹1,000 to ₹2,500 per session (Neemrana, Rishikesh) \\n   - Accommodation: ₹2,000 to ₹5,000 per night \\n   - Food: ₹500 to ₹1,500 per day \\n   - Total per day: ₹3,500 to ₹9,000 \\n \\n 6. Scuba Diving   \\n   - Activity Cost: ₹3,500 to ₹7,500 per dive (Andaman Islands, Goa) \\n   - Accommodation: ₹1,500 to ₹4,000 per night (budget to mid-range hotel) \\n   - Food: ₹500 to ₹2,000 per day \\n   - Total per day: ₹5,500 to ₹13,500 \\n \\n--- \\n \\n Total Estimated Budget for a 5-Day Adventure Trip (per person)   \\n- Budget (Low-end): ₹30,000 to ₹45,000   \\n  - Accommodation, food, and 2-3 adventure activities per day, staying in budget hotels and doing a \\nmix of activities. \\n   \\n- Mid-range: ₹60,000 to ₹1,00,000   \\n  - Accommodation at mid-range hotels, including meals and 4-5 activities like skydiving or scuba \\ndiving. \\n \\n- Luxury: ₹1,50,000 and above   \\n  - Luxury hotels, private guides, multiple adventure activities, and fine dining. \\n '),\n",
       " Document(metadata={'source': 'D:\\\\chatbot_demo\\\\advenbuddy_rag_pdfs_demo.pdf', 'page': 24}, page_content='These estimates depend heavily on the location, type of accommodation, and the level of activity \\nchosen (e.g., solo or tandem skydiving). Prices also vary by time of year and availability. You can find \\nmore details and cost breakdowns for each location through travel websites like MakeMyTrip, \\nTripadvisor, and Travel World Planet. \\n \\nHere’s an estimated budget range for each destination based on the activities mentioned (including \\naccommodation, food, transportation, and activities). The budget will vary based on factors like the \\ntype of accommodation (budget, mid-range, or luxury), mode of transport, and the duration of the \\ntrip. \\n \\n 1. Angling \\n   - Kullu Valley, Himachal Pradesh \\n     - Budget: ₹8,000–₹12,000 per day \\n     - Mid-Range: ₹12,000–₹18,000 per day \\n     - Luxury: ₹18,000–₹30,000 per day \\n     - Duration: 4-5 days \\n \\n   - Madhya Pradesh \\n     - Budget: ₹6,000–₹10,000 per day \\n     - Mid-Range: ₹10,000–₹15,000 per day \\n     - Luxury: ₹15,000–₹25,000 per day \\n     - Duration: 3-5 days \\n \\n   - Uttarakhand \\n     - Budget: ₹7,000–₹11,000 per day \\n     - Mid-Range: ₹11,000–₹16,000 per day \\n     - Luxury: ₹16,000–₹28,000 per day \\n     - Duration: 4-6 days \\n \\n   - Goa \\n     - Budget: ₹5,000–₹8,000 per day \\n     - Mid-Range: ₹8,000–₹12,000 per day \\n     - Luxury: ₹12,000–₹20,000 per day '),\n",
       " Document(metadata={'source': 'D:\\\\chatbot_demo\\\\advenbuddy_rag_pdfs_demo.pdf', 'page': 25}, page_content='     - Duration: 3-5 days \\n \\n 2. Kayaking \\n   - Alleppey, Kerala \\n     - Budget: ₹6,000–₹10,000 per day \\n     - Mid-Range: ₹10,000–₹15,000 per day \\n     - Luxury: ₹15,000–₹25,000 per day \\n     - Duration: 3-5 days \\n \\n   - Rishikesh, Uttarakhand \\n     - Budget: ₹5,000–₹8,000 per day \\n     - Mid-Range: ₹8,000–₹12,000 per day \\n     - Luxury: ₹12,000–₹20,000 per day \\n     - Duration: 3-4 days \\n \\n   - Sikkim \\n     - Budget: ₹7,000–₹10,000 per day \\n     - Mid-Range: ₹10,000–₹15,000 per day \\n     - Luxury: ₹15,000–₹25,000 per day \\n     - Duration: 5-6 days \\n \\n   - Nanda Lake, Maharashtra \\n     - Budget: ₹3,000–₹5,000 per day \\n     - Mid-Range: ₹5,000–₹8,000 per day \\n     - Luxury: ₹8,000–₹12,000 per day \\n     - Duration: 2-3 days \\n \\n 3. Rafting \\n   - Rishikesh, Uttarakhand \\n     - Budget: ₹6,000–₹9,000 per day \\n     - Mid-Range: ₹9,000–₹14,000 per day '),\n",
       " Document(metadata={'source': 'D:\\\\chatbot_demo\\\\advenbuddy_rag_pdfs_demo.pdf', 'page': 26}, page_content='     - Luxury: ₹14,000–₹22,000 per day \\n     - Duration: 3-4 days \\n \\n   - Zanskar River, Ladakh \\n     - Budget: ₹12,000–₹16,000 per day \\n     - Mid-Range: ₹16,000–₹25,000 per day \\n     - Luxury: ₹25,000–₹40,000 per day \\n     - Duration: 5-7 days \\n \\n   - Beas River, Himachal Pradesh \\n     - Budget: ₹7,000–₹10,000 per day \\n     - Mid-Range: ₹10,000–₹15,000 per day \\n     - Luxury: ₹15,000–₹25,000 per day \\n     - Duration: 3-4 days \\n \\n   - Kundalika River, Maharashtra \\n     - Budget: ₹4,000–₹6,000 per day \\n     - Mid-Range: ₹6,000–₹10,000 per day \\n     - Luxury: ₹10,000–₹15,000 per day \\n     - Duration: 2-3 days \\n \\n 4. River Cruising \\n   - Backwaters of Kerala \\n     - Budget: ₹6,000–₹10,000 per day \\n     - Mid-Range: ₹10,000–₹18,000 per day \\n     - Luxury: ₹18,000–₹30,000 per day \\n     - Duration: 3-5 days \\n \\n   - Brahmaputra River, Assam \\n     - Budget: ₹10,000–₹15,000 per day \\n     - Mid-Range: ₹15,000–₹25,000 per day '),\n",
       " Document(metadata={'source': 'D:\\\\chatbot_demo\\\\advenbuddy_rag_pdfs_demo.pdf', 'page': 27}, page_content='     - Luxury: ₹25,000–₹45,000 per day \\n     - Duration: 5-7 days \\n \\n   - Ganges River, Varanasi \\n     - Budget: ₹4,000–₹7,000 per day \\n     - Mid-Range: ₹7,000–₹12,000 per day \\n     - Luxury: ₹12,000–₹20,000 per day \\n     - Duration: 2-3 days \\n \\n   - Hooghly River, Kolkata \\n     - Budget: ₹4,000–₹6,000 per day \\n     - Mid-Range: ₹6,000–₹12,000 per day \\n     - Luxury: ₹12,000–₹18,000 per day \\n     - Duration: 2-3 days \\n \\n 5. Sailing \\n   - Goa \\n     - Budget: ₹6,000–₹9,000 per day \\n     - Mid-Range: ₹9,000–₹15,000 per day \\n     - Luxury: ₹15,000–₹25,000 per day \\n     - Duration: 3-5 days \\n \\n   - Kochi, Kerala \\n     - Budget: ₹7,000–₹12,000 per day \\n     - Mid-Range: ₹12,000–₹18,000 per day \\n     - Luxury: ₹18,000–₹35,000 per day \\n     - Duration: 3-5 days \\n \\n   - Andaman and Nicobar Islands \\n     - Budget: ₹12,000–₹18,000 per day \\n     - Mid-Range: ₹18,000–₹30,000 per day '),\n",
       " Document(metadata={'source': 'D:\\\\chatbot_demo\\\\advenbuddy_rag_pdfs_demo.pdf', 'page': 28}, page_content='     - Luxury: ₹30,000–₹50,000 per day \\n     - Duration: 4-6 days \\n \\n   - Mumbai, Maharashtra \\n     - Budget: ₹5,000–₹7,000 per day \\n     - Mid-Range: ₹7,000–₹12,000 per day \\n     - Luxury: ₹12,000–₹20,000 per day \\n     - Duration: 2-3 days \\n \\n--- \\n \\n Total Budget Range (approx.)   \\n- Budget Trip: ₹15,000–₹35,000   \\n- Mid-Range Trip: ₹35,000–₹70,000   \\n- Luxury Trip: ₹70,000–₹1,50,000+   \\n \\nNote: The costs include accommodation, meals, activity fees, transportation (flights or trains), and \\nother miscellaneous expenses (e.g., local transport, tips, etc.). The budget can vary depending on \\nfactors such as the season, type of accommodation, and how many activities you plan to do during \\nyour trip. ')]"
      ]
     },
     "execution_count": 7,
     "metadata": {},
     "output_type": "execute_result"
    }
   ],
   "source": [
    "docs=loader.load()\n",
    "docs"
   ]
  },
  {
   "cell_type": "code",
   "execution_count": 8,
   "metadata": {},
   "outputs": [
    {
     "name": "stderr",
     "output_type": "stream",
     "text": [
      "d:\\chatbot_demo\\venv\\lib\\site-packages\\tqdm\\auto.py:21: TqdmWarning: IProgress not found. Please update jupyter and ipywidgets. See https://ipywidgets.readthedocs.io/en/stable/user_install.html\n",
      "  from .autonotebook import tqdm as notebook_tqdm\n"
     ]
    },
    {
     "data": {
      "text/plain": [
       "VectorStoreRetriever(tags=['Chroma', 'HuggingFaceEmbeddings'], vectorstore=<langchain_chroma.vectorstores.Chroma object at 0x000002031C72BB50>, search_kwargs={})"
      ]
     },
     "execution_count": 8,
     "metadata": {},
     "output_type": "execute_result"
    }
   ],
   "source": [
    "embeddings=HuggingFaceEmbeddings()\n",
    "text_splitter=RecursiveCharacterTextSplitter(chunk_size=1000,chunk_overlap=200)\n",
    "splits=text_splitter.split_documents(docs)\n",
    "vectorstore=Chroma.from_documents(documents=splits,embedding=embeddings)\n",
    "retriever=vectorstore.as_retriever()\n",
    "retriever"
   ]
  },
  {
   "cell_type": "code",
   "execution_count": 9,
   "metadata": {},
   "outputs": [],
   "source": [
    "## Prompt Template\n",
    "system_prompt =(\n",
    "    \"You are an assistant for Question-answering tasks.\"\n",
    "    \"use the following pieces of retrieved context to answer\"\n",
    "    \"the question. If you don't know the answer, say that you \"\n",
    "    \"don't know. use three sentences maximum and keep the \"\n",
    "    \"answer concise nad in points. You are expert in Adventure and activies like Land, Water and Air Our focus region is India not beyond that.\" \n",
    "    \"Remember Source location is Pune, India.\"\n",
    "    \"\\n\\n\"\n",
    "    \"{context}\"\n",
    ")\n",
    "\n",
    "\n",
    "prompt=ChatPromptTemplate.from_messages(\n",
    "    [\n",
    "        (\"system\",system_prompt),\n",
    "        (\"human\",\"{input}\"),\n",
    "    ]\n",
    ")"
   ]
  },
  {
   "cell_type": "code",
   "execution_count": 10,
   "metadata": {},
   "outputs": [],
   "source": [
    "question_answer_chain=create_stuff_documents_chain(llm,prompt)\n",
    "rag_chain=create_retrieval_chain(retriever,question_answer_chain)\n"
   ]
  },
  {
   "cell_type": "code",
   "execution_count": 11,
   "metadata": {},
   "outputs": [
    {
     "data": {
      "text/plain": [
       "{'input': 'what is Birding?',\n",
       " 'context': [Document(metadata={'page': 1, 'source': 'D:\\\\chatbot_demo\\\\advenbuddy_rag_pdfs_demo.pdf'}, page_content='1. Birding \\n  Observing and identifying birds in their natural habitats. It’s a relaxing and rewarding activity, often \\nconducted in forests, wetlands, or reserves. \\n1.1 Birding Places in India \\n-Bharatpur Bird Sanctuary (Keoladeo National Park), Rajasthan   \\n• Known for its diverse bird species, including migratory birds like Siberian cranes.'),\n",
       "  Document(metadata={'page': 5, 'source': 'D:\\\\chatbot_demo\\\\advenbuddy_rag_pdfs_demo.pdf'}, page_content='Water Activities: \\nHere’s a brief introduction to each activity:   \\n \\n1. Angling:   \\n   Angling is a recreational fishing technique that uses a rod, line, and hook. Often pursued as a \\npeaceful pastime or sport, it involves catching fish in lakes, rivers, or oceans. Anglers may use live \\nbait or artificial lures, combining patience and skill to reel in their catch.   \\n \\n2. Kayaking:   \\n   Kayaking involves paddling a small, narrow watercraft called a kayak, typically powered by a \\ndouble-bladed paddle. It can be done in calm lakes, rivers, or even on ocean waves. Kayaking offers a \\nmix of adventure and tranquility, with options ranging from leisurely paddles to thrilling whitewater \\nrapids.   \\n \\n3. Rafting:   \\n   Rafting, or whitewater rafting, is an adventurous water activity where participants navigate rivers \\non an inflatable raft. It often involves maneuvering through rapids of varying difficulty, providing an'),\n",
       "  Document(metadata={'page': 4, 'source': 'D:\\\\chatbot_demo\\\\advenbuddy_rag_pdfs_demo.pdf'}, page_content='involve adventure in the skies. These sports provide an adrenaline rush and spectacular aerial views, \\ncombining skill, thrill, and freedom.   \\n \\n 2. Bungee Jumping   \\nAn extreme activity where participants jump off a high platform (like a bridge, tower, or crane) while \\nattached to a large elastic cord. The thrill comes from the free fall and the rebound effect of the cord.   \\n \\n 3. Hot Air Ballooning   \\nA serene and scenic experience where participants ride in a large balloon filled with hot air. It’s not \\nfocused on thrill but offers breathtaking panoramic views of landscapes, often at sunrise or sunset.   \\n \\n 4. Paragliding   \\nAn activity where participants glide through the air using a lightweight, free-flying, foot-launched \\nglider. It allows for long and peaceful flights over beautiful terrains with minimal equipment.'),\n",
       "  Document(metadata={'page': 5, 'source': 'D:\\\\chatbot_demo\\\\advenbuddy_rag_pdfs_demo.pdf'}, page_content='5. Sky Diving   \\nA high-intensity sport where participants jump from an aircraft at significant altitudes, freefalling \\nbefore deploying a parachute. It offers an unparalleled adrenaline rush and stunning aerial \\nperspectives.   \\n \\n 6. Zipline   \\nA fun activity where individuals slide down a steel cable, usually stretched between two high points. \\nIt’s often done over scenic locations like forests, valleys, or rivers, offering a thrilling and fast-paced \\nexperience.   \\n \\n 7. Scuba Diving   \\nAn underwater activity where participants use breathing equipment to explore marine life and \\nunderwater landscapes. It’s a unique combination of adventure and discovery, offering a peek into an \\nentirely different world.   \\n \\nWater Activities: \\nHere’s a brief introduction to each activity:   \\n \\n1. Angling:   \\n   Angling is a recreational fishing technique that uses a rod, line, and hook. Often pursued as a')],\n",
       " 'answer': \"Here's the answer:\\n\\nBirding is:\\n\\n* Observing and identifying birds in their natural habitats.\\n* A relaxing and rewarding activity, often conducted in forests, wetlands, or reserves.\\n\\n(Note: I've kept the answer concise and in three sentences, as per your request.)\"}"
      ]
     },
     "execution_count": 11,
     "metadata": {},
     "output_type": "execute_result"
    }
   ],
   "source": [
    "response=rag_chain.invoke({\"input\":\"what is Birding?\"})\n",
    "response"
   ]
  },
  {
   "cell_type": "code",
   "execution_count": 12,
   "metadata": {},
   "outputs": [
    {
     "data": {
      "text/plain": [
       "\"Here's the answer:\\n\\nBirding is:\\n\\n* Observing and identifying birds in their natural habitats.\\n* A relaxing and rewarding activity, often conducted in forests, wetlands, or reserves.\\n\\n(Note: I've kept the answer concise and in three sentences, as per your request.)\""
      ]
     },
     "execution_count": 12,
     "metadata": {},
     "output_type": "execute_result"
    }
   ],
   "source": [
    "response['answer']"
   ]
  },
  {
   "cell_type": "markdown",
   "metadata": {},
   "source": [
    "### adding Chat History\n"
   ]
  },
  {
   "cell_type": "code",
   "execution_count": 13,
   "metadata": {},
   "outputs": [],
   "source": [
    "response2=rag_chain.invoke({\"input\":\"can you tell me it's places in India\"})"
   ]
  },
  {
   "cell_type": "code",
   "execution_count": 14,
   "metadata": {},
   "outputs": [
    {
     "data": {
      "text/plain": [
       "'Yes, here are the places in India for various adventure activities:\\n\\n**Land Activities**\\n\\n* Rock Climbing: Hampi, Karnataka; Malshej Ghat, Maharashtra\\n* Ziplining: Neemrana, Rajasthan; Rishikesh, Uttarakhand\\n* Bungee Jumping: Rishikesh, Uttarakhand; Lonavala, Maharashtra\\n* Paragliding: Bir Billing, Himachal Pradesh; Kamshet, Maharashtra\\n* Cycling: Manali to Leh Highway; Munnar, Kerala\\n\\n**Water Activities**\\n\\n* Scuba Diving: Andaman and Nicobar Islands; Goa\\n* Angling: Kullu Valley, Himachal Pradesh; Madhya Pradesh; Uttarakhand\\n* Sailing: Not mentioned in the provided context\\n\\n**Air Activities**\\n\\n* Sky Diving: Jaipur, Rajasthan; Lonavala, Maharashtra\\n* Hot Air Ballooning: Not mentioned in the provided context\\n\\n**Motor Sports**\\n\\n* Leh-Ladakh Circuit, Jammu and Kashmir\\n* The Great Rann of Kutch, Gujarat\\n\\n**Wildlife**\\n\\n* Kaziranga National Park, Assam'"
      ]
     },
     "execution_count": 14,
     "metadata": {},
     "output_type": "execute_result"
    }
   ],
   "source": [
    "response2['answer']"
   ]
  },
  {
   "cell_type": "code",
   "execution_count": 15,
   "metadata": {},
   "outputs": [],
   "source": [
    "from langchain.chains import create_history_aware_retriever\n",
    "from langchain_core.prompts import MessagesPlaceholder\n",
    "\n",
    "contextualize_q_system_prompt=(\n",
    "    \"Given a chat history and a latest user question\"\n",
    "    \"which might reference context in the chat history, \"\n",
    "    \"formulate a standalone question which can be understood \"\n",
    "    \"without the chat history, DO NOT answer the question, \"\n",
    "    \"just reformulate it if needed and otherwise return it as it is.\" \n",
    "    \"keep it short and concise and MOST IMPORTANTLY to the point\"\n",
    ")\n",
    "\n",
    "contextualize_q_prompt=ChatPromptTemplate.from_messages(\n",
    "    [\n",
    "        (\"system\", contextualize_q_system_prompt),\n",
    "        MessagesPlaceholder(\"chat_history\"),\n",
    "        (\"human\",\"{input}\"),\n",
    "    ]\n",
    ")"
   ]
  },
  {
   "cell_type": "code",
   "execution_count": 16,
   "metadata": {},
   "outputs": [
    {
     "data": {
      "text/plain": [
       "RunnableBinding(bound=RunnableBranch(branches=[(RunnableLambda(lambda x: not x.get('chat_history', False)), RunnableLambda(lambda x: x['input'])\n",
       "| VectorStoreRetriever(tags=['Chroma', 'HuggingFaceEmbeddings'], vectorstore=<langchain_chroma.vectorstores.Chroma object at 0x000002031C72BB50>, search_kwargs={}))], default=ChatPromptTemplate(input_variables=['chat_history', 'input'], input_types={'chat_history': list[typing.Annotated[typing.Union[typing.Annotated[langchain_core.messages.ai.AIMessage, Tag(tag='ai')], typing.Annotated[langchain_core.messages.human.HumanMessage, Tag(tag='human')], typing.Annotated[langchain_core.messages.chat.ChatMessage, Tag(tag='chat')], typing.Annotated[langchain_core.messages.system.SystemMessage, Tag(tag='system')], typing.Annotated[langchain_core.messages.function.FunctionMessage, Tag(tag='function')], typing.Annotated[langchain_core.messages.tool.ToolMessage, Tag(tag='tool')], typing.Annotated[langchain_core.messages.ai.AIMessageChunk, Tag(tag='AIMessageChunk')], typing.Annotated[langchain_core.messages.human.HumanMessageChunk, Tag(tag='HumanMessageChunk')], typing.Annotated[langchain_core.messages.chat.ChatMessageChunk, Tag(tag='ChatMessageChunk')], typing.Annotated[langchain_core.messages.system.SystemMessageChunk, Tag(tag='SystemMessageChunk')], typing.Annotated[langchain_core.messages.function.FunctionMessageChunk, Tag(tag='FunctionMessageChunk')], typing.Annotated[langchain_core.messages.tool.ToolMessageChunk, Tag(tag='ToolMessageChunk')]], FieldInfo(annotation=NoneType, required=True, discriminator=Discriminator(discriminator=<function _get_type at 0x00000203009D8040>, custom_error_type=None, custom_error_message=None, custom_error_context=None))]]}, partial_variables={}, messages=[SystemMessagePromptTemplate(prompt=PromptTemplate(input_variables=[], input_types={}, partial_variables={}, template='Given a chat history and a latest user questionwhich might reference context in the chat history, formulate a standalone question which can be understood without the chat history, DO NOT answer the question, just reformulate it if needed and otherwise return it as it is.keep it short and concise and MOST IMPORTANTLY to the point'), additional_kwargs={}), MessagesPlaceholder(variable_name='chat_history'), HumanMessagePromptTemplate(prompt=PromptTemplate(input_variables=['input'], input_types={}, partial_variables={}, template='{input}'), additional_kwargs={})])\n",
       "| ChatGroq(client=<groq.resources.chat.completions.Completions object at 0x00000203047F2C20>, async_client=<groq.resources.chat.completions.AsyncCompletions object at 0x00000203047F1960>, model_name='Llama3-8b-8192', model_kwargs={}, groq_api_key=SecretStr('**********'))\n",
       "| StrOutputParser()\n",
       "| VectorStoreRetriever(tags=['Chroma', 'HuggingFaceEmbeddings'], vectorstore=<langchain_chroma.vectorstores.Chroma object at 0x000002031C72BB50>, search_kwargs={})), kwargs={}, config={'run_name': 'chat_retriever_chain'}, config_factories=[])"
      ]
     },
     "execution_count": 16,
     "metadata": {},
     "output_type": "execute_result"
    }
   ],
   "source": [
    "history_aware_retriever=create_history_aware_retriever(llm,retriever,contextualize_q_prompt)\n",
    "history_aware_retriever"
   ]
  },
  {
   "cell_type": "code",
   "execution_count": 17,
   "metadata": {},
   "outputs": [],
   "source": [
    "qa_prompt= ChatPromptTemplate.from_messages(\n",
    "    [\n",
    "        (\"system\",system_prompt),\n",
    "        MessagesPlaceholder(\"chat_history\"),\n",
    "        (\"human\",\"{input}\"),\n",
    "    ]\n",
    ")"
   ]
  },
  {
   "cell_type": "code",
   "execution_count": 18,
   "metadata": {},
   "outputs": [],
   "source": [
    "question_answer_chain=create_stuff_documents_chain(llm,qa_prompt)\n",
    "rag_chain=create_retrieval_chain(history_aware_retriever,question_answer_chain)"
   ]
  },
  {
   "cell_type": "code",
   "execution_count": 19,
   "metadata": {},
   "outputs": [
    {
     "name": "stdout",
     "output_type": "stream",
     "text": [
      "Here are the places in India for Birding:\n",
      "\n",
      "• Bharatpur Bird Sanctuary (Keoladeo National Park), Rajasthan - Known for its diverse bird species, including migratory birds like Siberian cranes.\n",
      "• Spiti Valley, Himachal Pradesh - Offers serene landscapes and camping under a starlit sky.\n",
      "\n",
      "These are the places mentioned in the provided context.\n"
     ]
    }
   ],
   "source": [
    "from langchain_core.messages import AIMessage, HumanMessage\n",
    "chat_history=[]\n",
    "question=\"what is Birding?\"\n",
    "response1=rag_chain.invoke({\"input\":question, \"chat_history\":chat_history})\n",
    "\n",
    "chat_history.extend(\n",
    "    [\n",
    "        HumanMessage(content=question),\n",
    "        AIMessage(content=response1[\"answer\"])\n",
    "    ]\n",
    ")\n",
    "\n",
    "question2=\"tell me the places of it in India\"\n",
    "responce2=rag_chain.invoke({\"input\":question2,\"chat_history\":chat_history})\n",
    "print(responce2['answer'])"
   ]
  },
  {
   "cell_type": "code",
   "execution_count": 20,
   "metadata": {},
   "outputs": [],
   "source": [
    "from langchain_community.chat_message_histories import ChatMessageHistory\n",
    "from langchain_core.chat_history import BaseChatMessageHistory\n",
    "from langchain_core.runnables.history import RunnableWithMessageHistory\n",
    "\n",
    "store={}\n",
    "\n",
    "\n",
    "def get_session_history(session_id: str)-> BaseChatMessageHistory:\n",
    "    if session_id not in store:\n",
    "        store[session_id]= ChatMessageHistory()\n",
    "    return store[session_id]\n",
    "\n",
    "conversational_rag_chain = RunnableWithMessageHistory(\n",
    "    rag_chain,\n",
    "    get_session_history,\n",
    "    input_messages_key=\"input\",\n",
    "    history_messages_key=\"chat_history\",\n",
    "    output_messages_key=\"answer\",\n",
    "\n",
    ")"
   ]
  },
  {
   "cell_type": "code",
   "execution_count": 21,
   "metadata": {},
   "outputs": [
    {
     "data": {
      "text/plain": [
       "'Based on the provided context, here are the distances from Pune to the Birding places in India:\\n\\n* Bharatpur Bird Sanctuary (Keoladeo National Park), Rajasthan - 1,200 km'"
      ]
     },
     "execution_count": 21,
     "metadata": {},
     "output_type": "execute_result"
    }
   ],
   "source": [
    "conversational_rag_chain.invoke(\n",
    "    {\"input\":\"tell me distance from pune of all Birding places in India.\"},\n",
    "    config={\n",
    "        \"configurable\":{\"session_id\":\"abc123\"}\n",
    "    }, #constructs a key \"abc123\" in store\n",
    ")[\"answer\"]"
   ]
  },
  {
   "cell_type": "code",
   "execution_count": 22,
   "metadata": {},
   "outputs": [],
   "source": [
    "#from langchain_community.vectorstores import FAISS\n"
   ]
  }
 ],
 "metadata": {
  "kernelspec": {
   "display_name": "venv",
   "language": "python",
   "name": "python3"
  },
  "language_info": {
   "codemirror_mode": {
    "name": "ipython",
    "version": 3
   },
   "file_extension": ".py",
   "mimetype": "text/x-python",
   "name": "python",
   "nbconvert_exporter": "python",
   "pygments_lexer": "ipython3",
   "version": "3.10.0"
  }
 },
 "nbformat": 4,
 "nbformat_minor": 2
}
